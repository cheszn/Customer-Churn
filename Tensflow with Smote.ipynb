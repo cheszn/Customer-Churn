{
 "cells": [
  {
   "cell_type": "code",
   "execution_count": 4,
   "id": "b9e8ebc3-2693-4042-be11-8c1fa6f09ce0",
   "metadata": {},
   "outputs": [],
   "source": [
    "#----Import TensorFlow, keras and SMOTE----\n",
    "import tensorflow as tf\n",
    "from tensorflow import keras\n",
    "from imblearn.over_sampling import SMOTE"
   ]
  },
  {
   "cell_type": "code",
   "execution_count": null,
   "id": "7bc4494e-fd05-4d28-8107-4a60ac17ef86",
   "metadata": {},
   "outputs": [],
   "source": []
  }
 ],
 "metadata": {
  "kernelspec": {
   "display_name": "Python 3 (ipykernel)",
   "language": "python",
   "name": "python3"
  },
  "language_info": {
   "codemirror_mode": {
    "name": "ipython",
    "version": 3
   },
   "file_extension": ".py",
   "mimetype": "text/x-python",
   "name": "python",
   "nbconvert_exporter": "python",
   "pygments_lexer": "ipython3",
   "version": "3.11.3"
  }
 },
 "nbformat": 4,
 "nbformat_minor": 5
}
