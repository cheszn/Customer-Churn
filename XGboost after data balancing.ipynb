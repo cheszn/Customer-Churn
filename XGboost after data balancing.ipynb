{
 "cells": [
  {
   "cell_type": "markdown",
   "id": "5fbb9a50-3cdb-4d74-8006-53134517bc8c",
   "metadata": {
    "tags": []
   },
   "source": [
    "#### Trying out XGBoost since our Data is highly Imbalanced"
   ]
  },
  {
   "cell_type": "markdown",
   "id": "2ad16850-1911-4597-ac24-b4aab5912416",
   "metadata": {},
   "source": [
    "We can either use approaches to oversample the minority class or we can use XGBoost and balance the positive and negative weights by setting scale_pos_weight to sum (negative instances) / sum (positive instances). </br>\n",
    "\n",
    "All we are doing in the XGBoost is penalizing the model for predicting the majority class to balance the output. We will come to that later on how to do that."
   ]
  },
  {
   "cell_type": "code",
   "execution_count": 1,
   "id": "621d94cc-66ed-4d1d-be8a-d8bf6cb14672",
   "metadata": {
    "tags": []
   },
   "outputs": [],
   "source": [
    "#----main libraries----\n",
    "import numpy as np\n",
    "import pandas as pd\n",
    "\n",
    "#----plotting libraries----\n",
    "import seaborn as sns\n",
    "import matplotlib.pyplot as plt\n",
    "import matplotlib.ticker as mtick\n",
    "\n",
    "#----regular expressions----\n",
    "import re\n",
    "\n",
    "#----model and support imports----\n",
    "from sklearn.model_selection import train_test_split\n",
    "from sklearn.model_selection import cross_val_score, cross_val_predict\n",
    "from sklearn.metrics import confusion_matrix, classification_report, accuracy_score, recall_score, precision_score, f1_score, roc_auc_score, ConfusionMatrixDisplay\n",
    "\n",
    "from sklearn.cluster import KMeans\n",
    "import warnings\n",
    "warnings.filterwarnings('ignore')\n",
    "from sklearn.preprocessing import LabelEncoder\n",
    "from sklearn.model_selection import train_test_split\n",
    "from sklearn.metrics import confusion_matrix, classification_report, accuracy_score, recall_score, precision_score, f1_score, roc_auc_score, ConfusionMatrixDisplay\n",
    "from sklearn.model_selection import GridSearchCV\n",
    "from sklearn.model_selection import RandomizedSearchCV\n",
    "from sklearn.model_selection import cross_val_score, cross_val_predict\n",
    "from xgboost import XGBClassifier\n",
    "from sklearn.preprocessing import (\n",
    "    OneHotEncoder,\n",
    "    StandardScaler,\n",
    "    MinMaxScaler, \n",
    "    PolynomialFeatures,\n",
    "    KBinsDiscretizer\n",
    ")\n",
    "from imblearn.under_sampling import RandomUnderSampler\n",
    "from imblearn.pipeline import Pipeline as ImbPipeline\n",
    "from imblearn.over_sampling import SMOTE\n",
    "from sklearn.impute import SimpleImputer\n",
    "from sklearn.compose import ColumnTransformer\n",
    "from sklearn.pipeline import Pipeline"
   ]
  },
  {
   "cell_type": "code",
   "execution_count": 2,
   "id": "efacc0c1-6b08-48ea-a6bf-7aa5750c58d2",
   "metadata": {
    "tags": []
   },
   "outputs": [],
   "source": [
    "df = pd.read_csv('Telco-Churn.csv')"
   ]
  },
  {
   "cell_type": "code",
   "execution_count": 3,
   "id": "ae03d772-2654-42b6-a429-739579f7a48c",
   "metadata": {
    "tags": []
   },
   "outputs": [
    {
     "data": {
      "image/png": "[encoded data removed]",
      "text/plain": [
       "<Figure size 300x400 with 1 Axes>"
      ]
     },
     "metadata": {},
     "output_type": "display_data"
    }
   ],
   "source": [
    "# Get the value counts for 'Churn' column\n",
    "data_temp = df['Churn'].value_counts().sort_index()\n",
    "\n",
    "fig, ax = plt.subplots(figsize=(3, 4))\n",
    "\n",
    "# Plotting the bar chart\n",
    "ax.bar(data_temp.index, data_temp, width=0.55, color=['skyblue', 'salmon'])\n",
    "\n",
    "# Title and axis labels\n",
    "ax.set_title('Churn Distribution', loc='left', fontsize=19, fontweight='bold')\n",
    "ax.set_xlabel('Churn')\n",
    "ax.set_ylabel('Count')\n",
    "\n",
    "# Annotate each bar with its count value\n",
    "for i, count in enumerate(data_temp):\n",
    "    ax.text(i, count + 50, str(count), ha='center', fontsize=12, fontweight='bold')\n",
    "\n",
    "# Hide spines on top and right sides\n",
    "for s in ['top', 'right']:\n",
    "    ax.spines[s].set_visible(False)\n",
    "\n",
    "plt.tight_layout()\n",
    "plt.show()"
   ]
  },
  {
   "cell_type": "code",
   "execution_count": 4,
   "id": "2afb6422-c06f-42a1-a356-cc27497c6fa4",
   "metadata": {
    "tags": []
   },
   "outputs": [
    {
     "name": "stdout",
     "output_type": "stream",
     "text": [
      "XGBoost weight balancing ---> neg: 5174, pos: 1869, scale_pos_weight: 3\n"
     ]
    }
   ],
   "source": [
    "spw = -(-df[df.Churn == \"No\"].shape[0]// df[df.Churn == \"Yes\"].shape[0])\n",
    "\n",
    "print(\"XGBoost weight balancing ---> neg: {}, pos: {}, scale_pos_weight: {}\".format(df[df.Churn == \"No\"].shape[0], df[df.Churn == \"Yes\"].shape[0], spw))"
   ]
  },
  {
   "cell_type": "markdown",
   "id": "8cd2426c-34f4-4935-92f5-d860d69a992f",
   "metadata": {},
   "source": [
    "#### Model configuration"
   ]
  },
  {
   "cell_type": "markdown",
   "id": "6c2efcec-9e87-410f-94ac-9734427b72b5",
   "metadata": {
    "tags": []
   },
   "source": [
    "We will use XGBoost and then use TensorFlow to see if we get better performance using a Neural Network. <br>\n",
    "We will use SMOTE (synthetic minority oversampling technique) to correct for imbalance while using TensorFlow."
   ]
  },
  {
   "cell_type": "markdown",
   "id": "ca4f72b3-e355-4998-96cb-f94f9903948a",
   "metadata": {},
   "source": [
    "The mathematical goal of a machine learning algorithm is to find the optimal model parameters that minimize the cost function, also known as the loss function, over the training data. This is typically done through an optimization algorithm such as gradient descent, which iteratively updates the model parameters to minimize the cost function.\n",
    "\n",
    "Let us first encode our dependent variable (i.e., convert it to 1 and 0):"
   ]
  },
  {
   "cell_type": "code",
   "execution_count": 5,
   "id": "6662643a-b652-4566-b6a9-1e23ea226d99",
   "metadata": {
    "tags": []
   },
   "outputs": [],
   "source": [
    "le = LabelEncoder()\n",
    "df['Churn'] = le.fit_transform(df['Churn'])"
   ]
  },
  {
   "cell_type": "markdown",
   "id": "9a5433bc-0dfb-4e42-bccd-f1e005d081b2",
   "metadata": {},
   "source": [
    "We will now convert our categorical dependent variables into dummy variables (i.e., generate a separate column for each value and changing the values into 1 and 0):"
   ]
  },
  {
   "cell_type": "code",
   "execution_count": 6,
   "id": "72fd8121-cdff-4422-a9b9-b44c11538c83",
   "metadata": {
    "tags": []
   },
   "outputs": [
    {
     "data": {
      "text/html": [
       "<div>\n",
       "<style scoped>\n",
       "    .dataframe tbody tr th:only-of-type {\n",
       "        vertical-align: middle;\n",
       "    }\n",
       "\n",
       "    .dataframe tbody tr th {\n",
       "        vertical-align: top;\n",
       "    }\n",
       "\n",
       "    .dataframe thead th {\n",
       "        text-align: right;\n",
       "    }\n",
       "</style>\n",
       "<table border=\"1\" class=\"dataframe\">\n",
       "  <thead>\n",
       "    <tr style=\"text-align: right;\">\n",
       "      <th></th>\n",
       "      <th>SeniorCitizen</th>\n",
       "      <th>tenure</th>\n",
       "      <th>MonthlyCharges</th>\n",
       "      <th>Churn</th>\n",
       "      <th>customerID_0002-ORFBO</th>\n",
       "      <th>customerID_0003-MKNFE</th>\n",
       "      <th>customerID_0004-TLHLJ</th>\n",
       "      <th>customerID_0011-IGKFF</th>\n",
       "      <th>customerID_0013-EXCHZ</th>\n",
       "      <th>customerID_0013-MHZWF</th>\n",
       "      <th>...</th>\n",
       "      <th>TotalCharges_995.35</th>\n",
       "      <th>TotalCharges_996.45</th>\n",
       "      <th>TotalCharges_996.85</th>\n",
       "      <th>TotalCharges_996.95</th>\n",
       "      <th>TotalCharges_997.65</th>\n",
       "      <th>TotalCharges_997.75</th>\n",
       "      <th>TotalCharges_998.1</th>\n",
       "      <th>TotalCharges_999.45</th>\n",
       "      <th>TotalCharges_999.8</th>\n",
       "      <th>TotalCharges_999.9</th>\n",
       "    </tr>\n",
       "  </thead>\n",
       "  <tbody>\n",
       "    <tr>\n",
       "      <th>0</th>\n",
       "      <td>0</td>\n",
       "      <td>1</td>\n",
       "      <td>29.85</td>\n",
       "      <td>0</td>\n",
       "      <td>False</td>\n",
       "      <td>False</td>\n",
       "      <td>False</td>\n",
       "      <td>False</td>\n",
       "      <td>False</td>\n",
       "      <td>False</td>\n",
       "      <td>...</td>\n",
       "      <td>False</td>\n",
       "      <td>False</td>\n",
       "      <td>False</td>\n",
       "      <td>False</td>\n",
       "      <td>False</td>\n",
       "      <td>False</td>\n",
       "      <td>False</td>\n",
       "      <td>False</td>\n",
       "      <td>False</td>\n",
       "      <td>False</td>\n",
       "    </tr>\n",
       "    <tr>\n",
       "      <th>1</th>\n",
       "      <td>0</td>\n",
       "      <td>34</td>\n",
       "      <td>56.95</td>\n",
       "      <td>0</td>\n",
       "      <td>False</td>\n",
       "      <td>False</td>\n",
       "      <td>False</td>\n",
       "      <td>False</td>\n",
       "      <td>False</td>\n",
       "      <td>False</td>\n",
       "      <td>...</td>\n",
       "      <td>False</td>\n",
       "      <td>False</td>\n",
       "      <td>False</td>\n",
       "      <td>False</td>\n",
       "      <td>False</td>\n",
       "      <td>False</td>\n",
       "      <td>False</td>\n",
       "      <td>False</td>\n",
       "      <td>False</td>\n",
       "      <td>False</td>\n",
       "    </tr>\n",
       "    <tr>\n",
       "      <th>2</th>\n",
       "      <td>0</td>\n",
       "      <td>2</td>\n",
       "      <td>53.85</td>\n",
       "      <td>1</td>\n",
       "      <td>False</td>\n",
       "      <td>False</td>\n",
       "      <td>False</td>\n",
       "      <td>False</td>\n",
       "      <td>False</td>\n",
       "      <td>False</td>\n",
       "      <td>...</td>\n",
       "      <td>False</td>\n",
       "      <td>False</td>\n",
       "      <td>False</td>\n",
       "      <td>False</td>\n",
       "      <td>False</td>\n",
       "      <td>False</td>\n",
       "      <td>False</td>\n",
       "      <td>False</td>\n",
       "      <td>False</td>\n",
       "      <td>False</td>\n",
       "    </tr>\n",
       "    <tr>\n",
       "      <th>3</th>\n",
       "      <td>0</td>\n",
       "      <td>45</td>\n",
       "      <td>42.30</td>\n",
       "      <td>0</td>\n",
       "      <td>False</td>\n",
       "      <td>False</td>\n",
       "      <td>False</td>\n",
       "      <td>False</td>\n",
       "      <td>False</td>\n",
       "      <td>False</td>\n",
       "      <td>...</td>\n",
       "      <td>False</td>\n",
       "      <td>False</td>\n",
       "      <td>False</td>\n",
       "      <td>False</td>\n",
       "      <td>False</td>\n",
       "      <td>False</td>\n",
       "      <td>False</td>\n",
       "      <td>False</td>\n",
       "      <td>False</td>\n",
       "      <td>False</td>\n",
       "    </tr>\n",
       "    <tr>\n",
       "      <th>4</th>\n",
       "      <td>0</td>\n",
       "      <td>2</td>\n",
       "      <td>70.70</td>\n",
       "      <td>1</td>\n",
       "      <td>False</td>\n",
       "      <td>False</td>\n",
       "      <td>False</td>\n",
       "      <td>False</td>\n",
       "      <td>False</td>\n",
       "      <td>False</td>\n",
       "      <td>...</td>\n",
       "      <td>False</td>\n",
       "      <td>False</td>\n",
       "      <td>False</td>\n",
       "      <td>False</td>\n",
       "      <td>False</td>\n",
       "      <td>False</td>\n",
       "      <td>False</td>\n",
       "      <td>False</td>\n",
       "      <td>False</td>\n",
       "      <td>False</td>\n",
       "    </tr>\n",
       "  </tbody>\n",
       "</table>\n",
       "<p>5 rows × 13619 columns</p>\n",
       "</div>"
      ],
      "text/plain": [
       "   SeniorCitizen  tenure  MonthlyCharges  Churn  customerID_0002-ORFBO   \n",
       "0              0       1           29.85      0                  False  \\\n",
       "1              0      34           56.95      0                  False   \n",
       "2              0       2           53.85      1                  False   \n",
       "3              0      45           42.30      0                  False   \n",
       "4              0       2           70.70      1                  False   \n",
       "\n",
       "   customerID_0003-MKNFE  customerID_0004-TLHLJ  customerID_0011-IGKFF   \n",
       "0                  False                  False                  False  \\\n",
       "1                  False                  False                  False   \n",
       "2                  False                  False                  False   \n",
       "3                  False                  False                  False   \n",
       "4                  False                  False                  False   \n",
       "\n",
       "   customerID_0013-EXCHZ  customerID_0013-MHZWF  ...  TotalCharges_995.35   \n",
       "0                  False                  False  ...                False  \\\n",
       "1                  False                  False  ...                False   \n",
       "2                  False                  False  ...                False   \n",
       "3                  False                  False  ...                False   \n",
       "4                  False                  False  ...                False   \n",
       "\n",
       "   TotalCharges_996.45  TotalCharges_996.85  TotalCharges_996.95   \n",
       "0                False                False                False  \\\n",
       "1                False                False                False   \n",
       "2                False                False                False   \n",
       "3                False                False                False   \n",
       "4                False                False                False   \n",
       "\n",
       "   TotalCharges_997.65  TotalCharges_997.75  TotalCharges_998.1   \n",
       "0                False                False               False  \\\n",
       "1                False                False               False   \n",
       "2                False                False               False   \n",
       "3                False                False               False   \n",
       "4                False                False               False   \n",
       "\n",
       "   TotalCharges_999.45  TotalCharges_999.8  TotalCharges_999.9  \n",
       "0                False               False               False  \n",
       "1                False               False               False  \n",
       "2                False               False               False  \n",
       "3                False               False               False  \n",
       "4                False               False               False  \n",
       "\n",
       "[5 rows x 13619 columns]"
      ]
     },
     "execution_count": 6,
     "metadata": {},
     "output_type": "execute_result"
    }
   ],
   "source": [
    "df_dummy = pd.get_dummies(df)\n",
    "df_dummy.head()"
   ]
  },
  {
   "cell_type": "markdown",
   "id": "7a27c731-0452-427d-b5d8-0fbfea21c642",
   "metadata": {},
   "source": [
    "Let us now check correlation between the various variables:"
   ]
  },
  {
   "cell_type": "code",
   "execution_count": null,
   "id": "3387f77f-3685-48f4-85b8-9897226effe5",
   "metadata": {
    "tags": []
   },
   "outputs": [],
   "source": [
    "matrix = np.triu(np.ones_like(df_dummy.corr()))\n",
    "fig, ax = plt.subplots(figsize=(25,25),dpi=80, facecolor='w', edgecolor='k')\n",
    "sns.heatmap(df_dummy.corr(), mask= matrix, cmap=\"coolwarm\", annot = True, fmt = '.1f', center = 0,annot_kws={\"fontsize\":10})"
   ]
  },
  {
   "cell_type": "markdown",
   "id": "c00dcb14-cd6c-49f4-958d-34e82769f013",
   "metadata": {},
   "source": [
    "Finding redundant features"
   ]
  },
  {
   "cell_type": "code",
   "execution_count": null,
   "id": "2226b004-46fd-46a4-af23-4b0a1ef6fbb5",
   "metadata": {
    "tags": []
   },
   "outputs": [],
   "source": [
    "from scipy.stats import pearsonr\n",
    "\n",
    "# Define the correlation threshold\n",
    "correlation_threshold = 0.8\n",
    "\n",
    "# Create an empty list to store correlated pairs of features\n",
    "correlated_pairs = []\n",
    "\n",
    "# Calculate the correlation matrix\n",
    "corr_matrix = df_dummy.corr().abs()\n",
    "\n",
    "# Loop through the upper triangle of the correlation matrix\n",
    "for i in range(len(corr_matrix.columns)):\n",
    "    for j in range(i):\n",
    "        # If the correlation exceeds the threshold\n",
    "        if corr_matrix.iloc[i, j] > correlation_threshold:\n",
    "            # Append the pair of features to the list\n",
    "            correlated_pairs.append((corr_matrix.columns[i], corr_matrix.columns[j]))\n",
    "\n",
    "# Print the correlated pairs of features\n",
    "print(correlated_pairs)"
   ]
  },
  {
   "cell_type": "code",
   "execution_count": null,
   "id": "3c266ba5-3ac4-47ec-97e8-89f2aeaf8ad5",
   "metadata": {},
   "outputs": [],
   "source": []
  }
 ],
 "metadata": {
  "kernelspec": {
   "display_name": "Python 3 (ipykernel)",
   "language": "python",
   "name": "python3"
  },
  "language_info": {
   "codemirror_mode": {
    "name": "ipython",
    "version": 3
   },
   "file_extension": ".py",
   "mimetype": "text/x-python",
   "name": "python",
   "nbconvert_exporter": "python",
   "pygments_lexer": "ipython3",
   "version": "3.11.3"
  }
 },
 "nbformat": 4,
 "nbformat_minor": 5
}
